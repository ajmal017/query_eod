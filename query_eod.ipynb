{
 "cells": [
  {
   "cell_type": "code",
   "execution_count": 1,
   "metadata": {},
   "outputs": [],
   "source": [
    "import pandas as pd\n",
    "import requests\n",
    "from pandas.compat import StringIO\n",
    "import os"
   ]
  },
  {
   "cell_type": "code",
   "execution_count": 2,
   "metadata": {},
   "outputs": [],
   "source": [
    "def init_dir(directory):\n",
    "    if not os.path.exists(directory):\n",
    "        os.makedirs(directory)\n",
    "\n",
    "secret_key = \"\"\n",
    "url_exchange_symbols = \"https://eodhistoricaldata.com/api/exchanges/{EXCHANGE_CODE}?api_token={YOUR_API_KEY}\".format(EXCHANGE_CODE = \"KLSE\", YOUR_API_KEY = secret_key)\n",
    "session = requests.Session()\n",
    "r = session.get(url_exchange_symbols)\n",
    "if r.status_code == requests.codes.ok:\n",
    "    df = pd.read_csv(StringIO(r.text), skipfooter=1, parse_dates=[0], index_col=0, engine='python')\n"
   ]
  },
  {
   "cell_type": "code",
   "execution_count": 3,
   "metadata": {},
   "outputs": [],
   "source": [
    "import datetime\n",
    "dt = datetime.datetime.now()\n",
    "dt = dt.strftime(\"%Y%m%d_%H%M%S\")\n",
    "dir_name = \"klse_{}\".format(dt)"
   ]
  },
  {
   "cell_type": "code",
   "execution_count": 4,
   "metadata": {},
   "outputs": [],
   "source": [
    "init_dir(dir_name)\n",
    "for stock_code in df.index:\n",
    "    url_sym = \"https://eodhistoricaldata.com/api/eod/{STOCK}.{EXCHANGE_CODE}?api_token={YOUR_API_KEY}\".format(STOCK = stock_code, EXCHANGE_CODE = \"KLSE\", YOUR_API_KEY = \"5b7127020ba092.73763782\")\n",
    "    session = requests.Session()\n",
    "    r = session.get(url_sym)\n",
    "    if r.status_code == requests.codes.ok:\n",
    "        df = pd.read_csv(StringIO(r.text), skipfooter=1, parse_dates=[0], index_col=0, engine='python')\n",
    "        df.to_csv(os.path.join(dir_name, stock_code))\n",
    "    else:\n",
    "        print(\"Error:\", stock_code)"
   ]
  },
  {
   "cell_type": "code",
   "execution_count": null,
   "metadata": {},
   "outputs": [],
   "source": []
  }
 ],
 "metadata": {
  "kernelspec": {
   "display_name": "Python 3",
   "language": "python",
   "name": "python3"
  },
  "language_info": {
   "codemirror_mode": {
    "name": "ipython",
    "version": 3
   },
   "file_extension": ".py",
   "mimetype": "text/x-python",
   "name": "python",
   "nbconvert_exporter": "python",
   "pygments_lexer": "ipython3",
   "version": "3.6.6"
  }
 },
 "nbformat": 4,
 "nbformat_minor": 2
}
